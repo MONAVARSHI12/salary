{
 "metadata": {
  "kernelspec": {
   "display_name": "Streamlit Notebook",
   "name": "streamlit"
  },
  "lastEditStatus": {
   "notebookId": "26apu7isqips25ldlgue",
   "authorId": "6734513766233",
   "authorName": "MONA",
   "authorEmail": "monavarshini31@gmail.com",
   "sessionId": "ebdbc421-fa54-4af3-8952-0574cec94dff",
   "lastEditTime": 1752106061886
  }
 },
 "nbformat_minor": 5,
 "nbformat": 4,
 "cells": [
  {
   "cell_type": "code",
   "id": "c695373e-ac74-4b62-a1f1-08206cbd5c81",
   "metadata": {
    "language": "python",
    "name": "cell3"
   },
   "source": "import streamlit as st\nfrom snowflake.snowpark import Session\nfrom datetime import date\n\n# --- Load Snowflake connection ---\nimport os\nfrom dotenv import load_dotenv\nload_dotenv()\n\nconnection_parameters = {\n    \"account\": \"MU17967\",\n    \"user\": \"mona\",\n    \"password\": \"Mon@varshini1234\",\n    \"role\": \"ACCOUNTADMIN\",\n    \"warehouse\": \"comput_wh\",\n    \"database\": \"HR_DB\",\n    \"schema\": \"PUBLIC\"\n}\n\nsession = Session.builder.configs(connection_parameters).create()\n\n# --- UI Layout ---\nst.set_page_config(page_title=\"Sales Insights Dashboard\", layout=\"wide\")\nst.title(\"📊 Sales Insights Dashboard with AI + Download\")\n\n# --- KPI Metrics ---\nst.subheader(\"📌 Key Performance Indicators\")\ndf_kpi = session.sql(\"\"\"\n    SELECT\n        COUNT(DISTINCT order_id) AS total_orders,\n        COUNT(DISTINCT customer_id) AS total_customers,\n        SUM(quantity * unit_price) AS total_revenue\n    FROM orders\n\"\"\").to_pandas().iloc[0]\n\ncol1, col2, col3 = st.columns(3)\ncol1.metric(\"Total Orders\", df_kpi[\"TOTAL_ORDERS\"])\ncol2.metric(\"Total Customers\", df_kpi[\"TOTAL_CUSTOMERS\"])\ncol3.metric(\"Total Revenue\", f\"₹{df_kpi['TOTAL_REVENUE']:,.2f}\")\n\n# --- Line Chart ---\nst.subheader(\"📈 Sales Trend Over Time\")\ndf_trend = session.sql(\"\"\"\n    SELECT order_date, SUM(quantity * unit_price) AS daily_sales\n    FROM orders\n    GROUP BY order_date\n    ORDER BY order_date\n\"\"\")\nst.line_chart(df_trend.to_pandas().set_index(\"ORDER_DATE\"))\n\n# --- Tabs ---\nst.subheader(\"🧾 Detailed Insights\")\ntab1, tab2 = st.tabs([\"Top Customers\", \"Top Reps\"])\n\nwith tab1:\n    df1 = session.sql(\"\"\"\n        SELECT c.customer_name, SUM(o.quantity * o.unit_price) AS total_spent\n        FROM orders o\n        JOIN customers c ON o.customer_id = c.customer_id\n        GROUP BY c.customer_name\n        ORDER BY total_spent DESC\n        LIMIT 5\n    \"\"\")\n    st.dataframe(df1.to_pandas())\n\nwith tab2:\n    df2 = session.sql(\"\"\"\n        SELECT s.rep_name, SUM(o.quantity * o.unit_price) AS total_sales\n        FROM orders o\n        JOIN sales_reps s ON o.rep_id = s.rep_id\n        GROUP BY s.rep_name\n        ORDER BY total_sales DESC\n        LIMIT 5\n    \"\"\")\n    st.dataframe(df2.to_pandas())\n\n# --- Download Orders CSV ---\nst.subheader(\"⬇️ Download Orders Data\")\ndf_download = session.sql(\"SELECT * FROM orders\").to_pandas()\nst.download_button(\n    label=\"Download Orders CSV\",\n    data=df_download.to_csv(index=False),\n    file_name=\"orders.csv\",\n    mime=\"text/csv\"\n)\n\n# --- AI Assistant ---\nst.subheader(\"🤖 Ask the AI Assistant\")\nuser_question = st.text_area(\"Ask a sales-related question:\", placeholder=\"e.g. Top product in July?\")\n\nif user_question:\n    query = f\"\"\"\n    SELECT SNOWFLAKE.CORTEX.COMPLETE(\n        'What are the top products by sales?',\n        input => '{user_question}'\n    ) AS result\n    \"\"\"\n    try:\n        response = session.sql(query).to_pandas().iloc[0]['RESULT']\n        st.success(response)\n    except Exception as e:\n        st.error(f\"Cortex failed: {e}\")\n\n# --- Raw Data Viewer ---\nwith st.expander(\"📄 Show Raw Data\"):\n    df_raw = session.sql(\"\"\"\n        SELECT o.*, p.product_name, c.customer_name\n        FROM orders o\n        JOIN products p ON o.product_id = p.product_id\n        JOIN customers c ON o.customer_id = c.customer_id\n    \"\"\")\n    st.dataframe(df_raw.to_pandas())",
   "execution_count": null,
   "outputs": []
  }
 ]
}